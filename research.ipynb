{
 "cells": [
  {
   "cell_type": "code",
   "execution_count": 14,
   "metadata": {},
   "outputs": [],
   "source": [
    "import opendatasets as od\n",
    "import pandas as pd\n",
    "import numpy as np\n",
    "import sqlalchemy as sal\n",
    "from sqlalchemy import create_engine\n",
    "import json"
   ]
  },
  {
   "cell_type": "code",
   "execution_count": null,
   "metadata": {},
   "outputs": [],
   "source": [
    "with open ('./yelp_dataset/yelp_academic_dataset_business.json', 'r') as f:\n",
    "    user_data = [json.loads(line) for line in f]\n",
    "business_df = pd.DataFrame(user_data)\n",
    "\n",
    "with open ('./yelp_dataset/yelp_academic_dataset_checkin.json', 'r') as f:\n",
    "    user_data = [json.loads(line) for line in f]\n",
    "checkin_df = pd.DataFrame(user_data)\n",
    "\n",
    "\n",
    "\n",
    "with open ('./yelp_dataset/yelp_academic_dataset_review.json', 'r') as f:\n",
    "    user_data = [json.loads(line) for line in f]\n",
    "review_df = pd.DataFrame(user_data)\n",
    "\n",
    "\n",
    "\n",
    "with open ('./yelp_dataset/yelp_academic_dataset_tip.json', 'r') as f:\n",
    "    user_data = [json.loads(line) for line in f]\n",
    "tip_df = pd.DataFrame(user_data)\n",
    "\n",
    "\n",
    "\n",
    "with open ('./yelp_dataset/yelp_academic_dataset_user.json', 'r') as f:\n",
    "    user_data = [json.loads(line) for line in f]\n",
    "user_df = pd.DataFrame(user_data)\n",
    "user_df"
   ]
  },
  {
   "cell_type": "code",
   "execution_count": null,
   "metadata": {},
   "outputs": [],
   "source": [
    "print(business_df.shape)\n",
    "print(checkin_df.shape)\n",
    "print(review_df.shape)\n",
    "print(tip_df.shape)\n",
    "print(user_df.shape)"
   ]
  },
  {
   "cell_type": "code",
   "execution_count": 21,
   "metadata": {},
   "outputs": [],
   "source": [
    "business_df.drop(columns=['attributes', 'hours'], axis = 1, inplace=True)"
   ]
  },
  {
   "cell_type": "code",
   "execution_count": 22,
   "metadata": {},
   "outputs": [],
   "source": [
    "engine = create_engine('sqlite:///yelp.db')\n",
    "\n",
    "def load_dataframe(df, table_name, engine):\n",
    "    df.to_sql(table_name, con = engine, if_exists = 'replace', index = False)\n",
    "\n",
    "load_dataframe(business_df, 'business', engine)\n",
    "load_dataframe(checkin_df, 'checkin', engine)\n",
    "load_dataframe(review_df, 'review', engine)\n",
    "load_dataframe(tip_df, 'tip', engine)\n",
    "load_dataframe(user_df, 'user', engine)"
   ]
  },
  {
   "cell_type": "code",
   "execution_count": null,
   "metadata": {},
   "outputs": [],
   "source": []
  }
 ],
 "metadata": {
  "kernelspec": {
   "display_name": "Python 3",
   "language": "python",
   "name": "python3"
  },
  "language_info": {
   "codemirror_mode": {
    "name": "ipython",
    "version": 3
   },
   "file_extension": ".py",
   "mimetype": "text/x-python",
   "name": "python",
   "nbconvert_exporter": "python",
   "pygments_lexer": "ipython3",
   "version": "3.9.0"
  }
 },
 "nbformat": 4,
 "nbformat_minor": 2
}
